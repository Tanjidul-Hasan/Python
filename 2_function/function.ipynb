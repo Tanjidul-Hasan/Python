{
 "cells": [
  {
   "cell_type": "markdown",
   "metadata": {},
   "source": [
    "# Function"
   ]
  },
  {
   "cell_type": "code",
   "execution_count": 14,
   "metadata": {},
   "outputs": [],
   "source": [
    "#creating a simple function\n",
    "def welcome()-> None:\n",
    "    print(\"Welcome to Easy Education.\")\n",
    "    print(\"How can I assist you sir?\")\n"
   ]
  },
  {
   "cell_type": "code",
   "execution_count": null,
   "metadata": {},
   "outputs": [],
   "source": [
    "# calling function\n",
    "welcome()"
   ]
  },
  {
   "cell_type": "markdown",
   "metadata": {},
   "source": [
    "# Function with parameters or positional parameter"
   ]
  },
  {
   "cell_type": "code",
   "execution_count": 29,
   "metadata": {},
   "outputs": [],
   "source": [
    "# function with single argument\n",
    "def welcome(Name:str)-> None:\n",
    "    \"\"\" This function welcome people with thir name. \n",
    "\n",
    ">>> welcome('Mr.Tanjidul Hasan')\n",
    "'Welcome to Easy Education. Mr.Tanjidul Hasan\n",
    "How can I assist you sir?'\n",
    "    \"\"\"\n",
    "    print(\"Welcome to Easy Education.\",Name)\n",
    "    print(\"How can I assist you sir?\")\n"
   ]
  },
  {
   "cell_type": "code",
   "execution_count": 27,
   "metadata": {},
   "outputs": [
    {
     "name": "stdout",
     "output_type": "stream",
     "text": [
      "Welcome to Easy Education. Kulsum akter shila\n",
      "How can I assist you sir?\n"
     ]
    }
   ],
   "source": [
    "welcome(\"Kulsum akter shila\")"
   ]
  },
  {
   "cell_type": "code",
   "execution_count": 40,
   "metadata": {},
   "outputs": [],
   "source": [
    "# function with double argument\n",
    "def welcome(fName:str,LName:str)-> None:\n",
    "    \"\"\" This function welcome people with thir fName and LName. \n",
    "\n",
    ">>> welcome('Tanjidul', 'Hasan')\n",
    "'Welcome to Easy Education. Mr.Tanjidul Hasan\n",
    "How can I assist you sir?'\n",
    "    \"\"\"\n",
    "    print(\"Welcome to Easy Education.\",f'{fName}@{LName}')\n",
    "    print(\"How can I assist you sir?\")"
   ]
  },
  {
   "cell_type": "code",
   "execution_count": null,
   "metadata": {},
   "outputs": [],
   "source": [
    "welcome('Tanjidul','Hasan')"
   ]
  },
  {
   "cell_type": "markdown",
   "metadata": {},
   "source": [
    "# Function with keyword argument or no positional parameters "
   ]
  },
  {
   "cell_type": "code",
   "execution_count": 46,
   "metadata": {},
   "outputs": [],
   "source": [
    "# function with double argument but this is optional\n",
    "def welcome(fName:str=\"\",LName:str=\"\")-> None:\n",
    "    \"\"\" This function welcome people with thir fName and LName but this arugument is option if don't have no problem no need to give. \n",
    "\n",
    ">>> welcome('Tanjidul', 'Hasan')\n",
    "'Welcome to Easy Education. Mr.Tanjidul Hasan\n",
    "How can I assist you sir?'\n",
    "    \"\"\"\n",
    "    print(\"Welcome to Easy Education.\",f'{fName}@{LName}')\n",
    "    print(\"How can I assist you sir?\")"
   ]
  },
  {
   "cell_type": "code",
   "execution_count": null,
   "metadata": {},
   "outputs": [],
   "source": [
    "welcome(LName='Tanjidul',fName='Hasan')"
   ]
  },
  {
   "cell_type": "markdown",
   "metadata": {},
   "source": [
    "# Function with return"
   ]
  },
  {
   "cell_type": "code",
   "execution_count": 73,
   "metadata": {},
   "outputs": [
    {
     "name": "stdout",
     "output_type": "stream",
     "text": [
      "3 is not divisible by 8\n"
     ]
    }
   ],
   "source": [
    "#here if we put our function in a variable then print that function we will found somthing what we return in our function\n",
    "def is_divisible(dividend:int='',divisor:int='')->bool:\n",
    "    if dividend % divisor == 0:\n",
    "        print(f'{dividend}is divisible by{divisor}')\n",
    "        return True\n",
    "    else:\n",
    "        print(f'{dividend} is not divisible by {divisor}')\n",
    "        return False\n",
    "\n",
    "result= is_divisible(3,8)"
   ]
  },
  {
   "cell_type": "markdown",
   "metadata": {},
   "source": [
    "# function with return but without using print function"
   ]
  },
  {
   "cell_type": "code",
   "execution_count": null,
   "metadata": {},
   "outputs": [],
   "source": [
    "#here if we put our function in a variable then print that function we will found somthing what we return in our function\n",
    "def is_divisible(dividend:int='',divisor:int='')->str:\n",
    "    if dividend % divisor == 0:\n",
    "        return f'{dividend} is divisible by {divisor}'\n",
    "        \n",
    "    else:\n",
    "        return f'{dividend} is not divisible by {divisor}'\n",
    "       \n",
    "\n",
    "result= is_divisible(6,3)\n",
    "result \n"
   ]
  },
  {
   "cell_type": "markdown",
   "metadata": {},
   "source": [
    "# dynamic *args"
   ]
  },
  {
   "cell_type": "code",
   "execution_count": null,
   "metadata": {},
   "outputs": [],
   "source": [
    "def is_Odd(*nums)->list:\n",
    "    result=[]\n",
    "    for num in nums:\n",
    "        if num%2!=0:\n",
    "            result.append((num,True))\n",
    "        else:\n",
    "            result.append((num,False))\n",
    "\n",
    "    return result\n",
    "is_Odd(3,5,6,8,7,9,11,123,124,1567,1789,34,568)"
   ]
  },
  {
   "cell_type": "markdown",
   "metadata": {},
   "source": [
    "# dynamic **args or keyword args"
   ]
  },
  {
   "cell_type": "code",
   "execution_count": 109,
   "metadata": {},
   "outputs": [
    {
     "name": "stdout",
     "output_type": "stream",
     "text": [
      "{'fName': 'Tanjidul', 'lName': 'Hasan', 'email': 'tanjidulhasan1@gmail.com', 'username': 'Tanjidul Hasan'}\n"
     ]
    }
   ],
   "source": [
    "# here we will found key and value and user can input as much as info he or she want to give.\n",
    "def get_user(**user_info)->list:\n",
    "    print(user_info)\n",
    "get_user(fName='Tanjidul',lName='Hasan',email=\"tanjidulhasan1@gmail.com\",username=\"Tanjidul Hasan\")"
   ]
  },
  {
   "cell_type": "code",
   "execution_count": null,
   "metadata": {},
   "outputs": [],
   "source": [
    "def get_user(**user_info)->list:\n",
    "    for key,val in user_info.items():\n",
    "       print(key, \":\" ,val)\n",
    "get_user(fName='Tanjidul',lName='Hasan',email=\"tanjidulhasan1@gmail.com\",username=\"Tanjidul Hasan\",security_question='python my dream',ocupation=\"marine engineer\")"
   ]
  },
  {
   "cell_type": "code",
   "execution_count": null,
   "metadata": {},
   "outputs": [],
   "source": []
  }
 ],
 "metadata": {
  "kernelspec": {
   "display_name": "Python 3.10.4 64-bit",
   "language": "python",
   "name": "python3"
  },
  "language_info": {
   "codemirror_mode": {
    "name": "ipython",
    "version": 3
   },
   "file_extension": ".py",
   "mimetype": "text/x-python",
   "name": "python",
   "nbconvert_exporter": "python",
   "pygments_lexer": "ipython3",
   "version": "3.10.4"
  },
  "orig_nbformat": 4,
  "vscode": {
   "interpreter": {
    "hash": "369f2c481f4da34e4445cda3fffd2e751bd1c4d706f27375911949ba6bb62e1c"
   }
  }
 },
 "nbformat": 4,
 "nbformat_minor": 2
}
