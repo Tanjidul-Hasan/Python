{
 "cells": [
  {
   "cell_type": "markdown",
   "metadata": {},
   "source": [
    "# while loop"
   ]
  },
  {
   "cell_type": "code",
   "execution_count": 1,
   "metadata": {},
   "outputs": [
    {
     "name": "stdout",
     "output_type": "stream",
     "text": [
      "10\n",
      "8\n",
      "6\n",
      "4\n",
      "2\n"
     ]
    }
   ],
   "source": [
    "start=10\n",
    "while start>=1:\n",
    "    print(start)\n",
    "    start= start -2"
   ]
  },
  {
   "cell_type": "code",
   "execution_count": 38,
   "metadata": {},
   "outputs": [
    {
     "name": "stdout",
     "output_type": "stream",
     "text": [
      "5\n",
      "6\n",
      "7\n",
      "90\n",
      "23\n"
     ]
    }
   ],
   "source": [
    "data=[5,6,7,90,23]\n",
    "i=0\n",
    "while i<=4:\n",
    "    print(data[i])\n",
    "    i=i+1"
   ]
  },
  {
   "cell_type": "markdown",
   "metadata": {},
   "source": [
    "# for loop"
   ]
  },
  {
   "cell_type": "code",
   "execution_count": 2,
   "metadata": {},
   "outputs": [
    {
     "name": "stdout",
     "output_type": "stream",
     "text": [
      "Hi H\n",
      "Hi a\n",
      "Hi p\n",
      "Hi p\n",
      "Hi y\n",
      "Hi  \n",
      "Hi n\n",
      "Hi e\n",
      "Hi w\n",
      "Hi  \n",
      "Hi y\n",
      "Hi e\n",
      "Hi a\n",
      "Hi r\n"
     ]
    }
   ],
   "source": [
    "d= \"Happy new year\"\n",
    "for i in d:\n",
    "    print(\"Hi\",i)"
   ]
  },
  {
   "cell_type": "code",
   "execution_count": 34,
   "metadata": {},
   "outputs": [
    {
     "name": "stdout",
     "output_type": "stream",
     "text": [
      "150\n"
     ]
    }
   ],
   "source": [
    "num= [10,20,30,40,50]\n",
    "sum=0\n",
    "for x in num:\n",
    "    sum= sum+x\n",
    "print(sum)"
   ]
  },
  {
   "cell_type": "code",
   "execution_count": 35,
   "metadata": {},
   "outputs": [
    {
     "name": "stdout",
     "output_type": "stream",
     "text": [
      "5\n",
      "6\n",
      "7\n",
      "90\n",
      "23\n"
     ]
    }
   ],
   "source": [
    "data= [5,6,7,90,23]\n",
    "for i in data:\n",
    "    print(i)"
   ]
  },
  {
   "cell_type": "code",
   "execution_count": null,
   "metadata": {},
   "outputs": [],
   "source": [
    "# find the summation of normal num\n",
    "a= int(input(\"enter you last num up to how much you need summation:\"))\n",
    "sum = 0\n",
    "for x in range(1,a+1,1):\n",
    "    sum=sum+x\n",
    "print(sum)"
   ]
  },
  {
   "cell_type": "code",
   "execution_count": null,
   "metadata": {},
   "outputs": [],
   "source": [
    "# find the summation of ODD normal num\n",
    "b= int(input(\"enter you last no:\"))\n",
    "sum=0\n",
    "for x in range(1,b+1,2):\n",
    "    sum= sum+x\n",
    "print(sum)"
   ]
  },
  {
   "cell_type": "code",
   "execution_count": null,
   "metadata": {},
   "outputs": [],
   "source": [
    "# find the summation of squre normal no.\n",
    "c= int(input(\"enter you last num up to how much you need summation:\"))\n",
    "sum = 0\n",
    "for x in range(1,a+1,1):\n",
    "    sum=(x*(x+1)*(2*x+1))/6\n",
    "print(sum)"
   ]
  }
 ],
 "metadata": {
  "kernelspec": {
   "display_name": "Python 3.10.4 64-bit",
   "language": "python",
   "name": "python3"
  },
  "language_info": {
   "codemirror_mode": {
    "name": "ipython",
    "version": 3
   },
   "file_extension": ".py",
   "mimetype": "text/x-python",
   "name": "python",
   "nbconvert_exporter": "python",
   "pygments_lexer": "ipython3",
   "version": "3.10.4"
  },
  "orig_nbformat": 4,
  "vscode": {
   "interpreter": {
    "hash": "369f2c481f4da34e4445cda3fffd2e751bd1c4d706f27375911949ba6bb62e1c"
   }
  }
 },
 "nbformat": 4,
 "nbformat_minor": 2
}
