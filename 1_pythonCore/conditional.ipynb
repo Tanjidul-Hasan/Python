{
 "cells": [
  {
   "cell_type": "markdown",
   "metadata": {},
   "source": [
    "# if , else condition"
   ]
  },
  {
   "cell_type": "code",
   "execution_count": null,
   "metadata": {},
   "outputs": [],
   "source": [
    "age=int(input(\"enter your age:\"))\n",
    "if age>18:\n",
    "    print(\"eligible\")\n",
    "else:\n",
    "    print(\"sorry!\\nYou are not eligible to enter!\")"
   ]
  },
  {
   "cell_type": "markdown",
   "metadata": {},
   "source": [
    "# elif or if else condition"
   ]
  },
  {
   "cell_type": "code",
   "execution_count": null,
   "metadata": {},
   "outputs": [],
   "source": [
    "age=int(input(\"enter your age:\"))\n",
    "with_parent=True\n",
    "if age>18:\n",
    "     print(\"eligible\")\n",
    "elif with_parent:\n",
    "     print(\"eligible with parent\")\n",
    "else:\n",
    "    print(\"sorry!\\nYou are not eligible to enter!\") "
   ]
  },
  {
   "cell_type": "code",
   "execution_count": 1,
   "metadata": {},
   "outputs": [
    {
     "name": "stdout",
     "output_type": "stream",
     "text": [
      "this is young man or woman\n"
     ]
    }
   ],
   "source": [
    "age=int(input(\"Enter your age:\"))\n",
    "if age<18:\n",
    "    print(\"This is a boy or girl\")\n",
    "elif age<40:\n",
    "    print(\"this is young man or woman\")\n",
    "elif age<50:\n",
    "    print(\"This is middle aged people\")\n",
    "else:\n",
    "    print(\"this is old people\")"
   ]
  },
  {
   "cell_type": "markdown",
   "metadata": {},
   "source": [
    "# nested if "
   ]
  },
  {
   "cell_type": "code",
   "execution_count": 28,
   "metadata": {},
   "outputs": [
    {
     "name": "stdout",
     "output_type": "stream",
     "text": [
      "Not Eligible for any card\n"
     ]
    }
   ],
   "source": [
    "# eligibility check for different transactioncard\n",
    "age=int(input(\"enter your age:\"))\n",
    "employed= True\n",
    "salary=int(input(\"enter your monthly salary:\"))\n",
    "if age>=18 and employed and salary>20000:\n",
    "    if salary>100000:\n",
    "        print(\"Eligible for gold credit card\") \n",
    "    else:\n",
    "        print(\"Eligible for platinum credit card\")\n",
    "elif age>16:\n",
    "    print(\"Eligible for debit card\")\n",
    "else:\n",
    "    print(\"Not Eligible for any card\")"
   ]
  },
  {
   "cell_type": "markdown",
   "metadata": {},
   "source": [
    "# ternary operation"
   ]
  },
  {
   "cell_type": "code",
   "execution_count": 40,
   "metadata": {},
   "outputs": [
    {
     "name": "stdout",
     "output_type": "stream",
     "text": [
      "maximum number is: 222\n"
     ]
    }
   ],
   "source": [
    "a,b,c= 222,67,83 # multiple variable assignment \n",
    "if a>b and a>c:\n",
    "    print(\"maximum number is:\",a)\n",
    "elif b>a and b>c:\n",
    "    print(\"maximum number is:\",b)\n",
    "else: \n",
    "    print(\"maximum number is:\",c)\n",
    "\n"
   ]
  },
  {
   "cell_type": "code",
   "execution_count": 41,
   "metadata": {},
   "outputs": [
    {
     "data": {
      "text/plain": [
       "222"
      ]
     },
     "execution_count": 41,
     "metadata": {},
     "output_type": "execute_result"
    }
   ],
   "source": [
    "# now we can do this same operation by using ternary operator\n",
    "largest= a if a>b and a>c else 0\n",
    "#print(largest)\n",
    "# now we can nested also in ternary operator \n",
    "largest= a if a>b and a>c else (b if b>a and b>c else c)\n",
    "largest"
   ]
  },
  {
   "cell_type": "code",
   "execution_count": null,
   "metadata": {},
   "outputs": [],
   "source": [
    "# another example for ternary operator"
   ]
  },
  {
   "cell_type": "code",
   "execution_count": 56,
   "metadata": {},
   "outputs": [
    {
     "name": "stdout",
     "output_type": "stream",
     "text": [
      "odd\n"
     ]
    }
   ],
   "source": [
    "num=int(input(\"enter one no:\"))\n",
    "if num%2==0:\n",
    "    print(\"even\")\n",
    "else:\n",
    "    print(\"odd\")\n"
   ]
  },
  {
   "cell_type": "code",
   "execution_count": 57,
   "metadata": {},
   "outputs": [
    {
     "data": {
      "text/plain": [
       "'even'"
      ]
     },
     "execution_count": 57,
     "metadata": {},
     "output_type": "execute_result"
    }
   ],
   "source": [
    "# now\n",
    "\n",
    "result= 'even' if num%2==0 else \"odd\"\n",
    "result"
   ]
  },
  {
   "cell_type": "code",
   "execution_count": null,
   "metadata": {},
   "outputs": [],
   "source": []
  }
 ],
 "metadata": {
  "kernelspec": {
   "display_name": "Python 3.10.4 64-bit",
   "language": "python",
   "name": "python3"
  },
  "language_info": {
   "codemirror_mode": {
    "name": "ipython",
    "version": 3
   },
   "file_extension": ".py",
   "mimetype": "text/x-python",
   "name": "python",
   "nbconvert_exporter": "python",
   "pygments_lexer": "ipython3",
   "version": "3.10.4"
  },
  "orig_nbformat": 4,
  "vscode": {
   "interpreter": {
    "hash": "369f2c481f4da34e4445cda3fffd2e751bd1c4d706f27375911949ba6bb62e1c"
   }
  }
 },
 "nbformat": 4,
 "nbformat_minor": 2
}
